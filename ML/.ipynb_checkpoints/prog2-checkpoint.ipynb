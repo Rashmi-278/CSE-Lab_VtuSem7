{
 "cells": [
  {
   "cell_type": "code",
   "execution_count": 43,
   "metadata": {},
   "outputs": [],
   "source": [
    "import csv\n",
    "hypo = []\n",
    "data = []\n",
    "temp = []"
   ]
  },
  {
   "cell_type": "code",
   "execution_count": 44,
   "metadata": {},
   "outputs": [],
   "source": [
    "with open('datasets/2.csv') as csv_file:\n",
    "    lines = csv.reader(csv_file)\n",
    "    for line in lines:\n",
    "        temp.append(line)\n",
    "        if line[-1] == 'Y':\n",
    "            data.append(line)"
   ]
  },
  {
   "cell_type": "code",
   "execution_count": 45,
   "metadata": {},
   "outputs": [
    {
     "name": "stdout",
     "output_type": "stream",
     "text": [
      "Attributes\n",
      "['Sky', 'AirTemp', 'Humidity', 'Wind', 'Water', 'Forecast', 'EnjoySport']\n"
     ]
    }
   ],
   "source": [
    "print('Attributes')\n",
    "print(temp[0])"
   ]
  },
  {
   "cell_type": "code",
   "execution_count": 46,
   "metadata": {},
   "outputs": [
    {
     "name": "stdout",
     "output_type": "stream",
     "text": [
      "Dataset\n",
      "['sunny', 'warm', 'normal', 'strong', 'warm', 'same', 'Y']\n",
      "['sunny', 'warm', 'high', 'strong', 'warm', 'same', 'Y']\n",
      "['rainy', 'cold', 'high', 'strong', 'warm', 'change', 'N']\n",
      "['sunny', 'warm', 'high', 'strong', 'cool', 'change', 'Y']\n"
     ]
    }
   ],
   "source": [
    "temp = temp[1:]\n",
    "print('Dataset')\n",
    "for line in temp:\n",
    "    print(line)"
   ]
  },
  {
   "cell_type": "code",
   "execution_count": 47,
   "metadata": {},
   "outputs": [
    {
     "name": "stdout",
     "output_type": "stream",
     "text": [
      "Positive Examples\n",
      "['sunny', 'warm', 'normal', 'strong', 'warm', 'same', 'Y']\n",
      "['sunny', 'warm', 'high', 'strong', 'warm', 'same', 'Y']\n",
      "['sunny', 'warm', 'high', 'strong', 'cool', 'change', 'Y']\n"
     ]
    }
   ],
   "source": [
    "print('Positive Examples')\n",
    "for line in data:\n",
    "    print(line)"
   ]
  },
  {
   "cell_type": "code",
   "execution_count": 48,
   "metadata": {},
   "outputs": [
    {
     "name": "stdout",
     "output_type": "stream",
     "text": [
      "Most Specific Hypothesis\n",
      "['sunny', 'warm', '?', 'strong', '?', '?']\n"
     ]
    }
   ],
   "source": [
    "row = len(data)\n",
    "col = len(data[0])-1\n",
    "for j in range(col):\n",
    "    hypo.append(data[0][j])\n",
    "for i in range(row):\n",
    "    for j in range(col):\n",
    "        if hypo[j]!=data[i][j]:\n",
    "            hypo[j] = '?'\n",
    "print('Most Specific Hypothesis')\n",
    "print(hypo)"
   ]
  },
  {
   "cell_type": "code",
   "execution_count": 56,
   "metadata": {},
   "outputs": [
    {
     "name": "stdout",
     "output_type": "stream",
     "text": [
      "['sunny', '?', '?', '?', '?', '?']\n",
      "['?', 'warm', '?', '?', '?', '?']\n",
      "['?', '?', '?', '?', '?', '?']\n",
      "['?', '?', '?', '?', '?', '?']\n",
      "['?', '?', '?', '?', '?', '?']\n"
     ]
    }
   ],
   "source": [
    "row = len(temp)\n",
    "col = len(temp[0])-1\n",
    "gen = ['?']*col\n",
    "for i in range(row):\n",
    "    if temp[i][-1] == 'N':\n",
    "        for j in range(col):\n",
    "            if temp[i][j] != hypo[j]:\n",
    "                gen[j] = hypo[j]\n",
    "                print(gen)\n",
    "                gen[j] = '?'"
   ]
  },
  {
   "cell_type": "code",
   "execution_count": null,
   "metadata": {},
   "outputs": [],
   "source": []
  }
 ],
 "metadata": {
  "kernelspec": {
   "display_name": "Python 3",
   "language": "python",
   "name": "python3"
  },
  "language_info": {
   "codemirror_mode": {
    "name": "ipython",
    "version": 3
   },
   "file_extension": ".py",
   "mimetype": "text/x-python",
   "name": "python",
   "nbconvert_exporter": "python",
   "pygments_lexer": "ipython3",
   "version": "3.7.4"
  }
 },
 "nbformat": 4,
 "nbformat_minor": 2
}
