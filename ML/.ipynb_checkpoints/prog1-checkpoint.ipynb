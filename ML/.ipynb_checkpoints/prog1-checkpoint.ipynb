{
 "cells": [
  {
   "cell_type": "code",
   "execution_count": 1,
   "metadata": {},
   "outputs": [],
   "source": [
    "import csv"
   ]
  },
  {
   "cell_type": "code",
   "execution_count": 10,
   "metadata": {},
   "outputs": [],
   "source": [
    "def loadCsv(filename):\n",
    "    lines = csv.reader(open(filename, \"r\"))\n",
    "    dataset = list(lines)\n",
    "    return dataset"
   ]
  },
  {
   "cell_type": "code",
   "execution_count": 11,
   "metadata": {},
   "outputs": [
    {
     "name": "stdout",
     "output_type": "stream",
     "text": [
      "['Sky', 'Temperature', 'Humidity', 'Wind', 'Water', 'Forecast']\n",
      "[['Sunny', 'Warm', 'Normal', 'Strong', 'Warm', 'Same', 'Yes'], ['Sunny', 'Warm', 'High', 'Strong', 'Warm', 'Same', 'Yes'], ['Rainy', 'Cold', 'High', 'Strong', 'Warm', 'Change', 'No'], ['Sunny', 'Warm', 'High', 'Strong', 'Cool', 'Change', 'Yes']]\n"
     ]
    }
   ],
   "source": [
    "attributes = ['Sky', 'Temperature', 'Humidity', 'Wind', 'Water', 'Forecast']\n",
    "print(attributes)\n",
    "n = len(attributes)\n",
    "dataset = loadCsv(\"datasets/1.csv\")\n",
    "print(dataset)"
   ]
  },
  {
   "cell_type": "code",
   "execution_count": 14,
   "metadata": {},
   "outputs": [
    {
     "name": "stdout",
     "output_type": "stream",
     "text": [
      "Initial Hypothesis:  ['0', '0', '0', '0', '0', '0']\n",
      "\n",
      "Hypotheses Are:\n",
      "H 1  >  ['Sunny', 'Warm', 'Normal', 'Strong', 'Warm', 'Same']\n",
      "H 2  >  ['Sunny', 'Warm', '?', 'Strong', 'Warm', 'Same']\n",
      "H 4  >  ['Sunny', 'Warm', '?', 'Strong', '?', '?']\n",
      "\n",
      "Final Hypothesis:  ['Sunny', 'Warm', '?', 'Strong', '?', '?']\n"
     ]
    }
   ],
   "source": [
    "h = ['0']*n\n",
    "print(\"Initial Hypothesis: \", h)\n",
    "print()\n",
    "print(\"Hypotheses Are:\")\n",
    "for i in range(len(dataset)):\n",
    "    target = dataset[i][-1]\n",
    "    if target == 'Yes':\n",
    "        for j in range(n):\n",
    "            if h[j] == '0':\n",
    "                h[j] = dataset[i][j]\n",
    "            if h[j] != dataset[i][j]:\n",
    "                h[j] = '?'\n",
    "        print(\"H\", (i+1), \" > \", h)\n",
    "print()\n",
    "print(\"Final Hypothesis: \", h)"
   ]
  },
  {
   "cell_type": "code",
   "execution_count": null,
   "metadata": {},
   "outputs": [],
   "source": []
  }
 ],
 "metadata": {
  "kernelspec": {
   "display_name": "Python 3",
   "language": "python",
   "name": "python3"
  },
  "language_info": {
   "codemirror_mode": {
    "name": "ipython",
    "version": 3
   },
   "file_extension": ".py",
   "mimetype": "text/x-python",
   "name": "python",
   "nbconvert_exporter": "python",
   "pygments_lexer": "ipython3",
   "version": "3.7.4"
  }
 },
 "nbformat": 4,
 "nbformat_minor": 2
}
