{
 "cells": [
  {
   "cell_type": "code",
   "execution_count": 40,
   "metadata": {},
   "outputs": [],
   "source": [
    "import csv\n",
    "import random\n",
    "import math\n",
    "import operator"
   ]
  },
  {
   "cell_type": "code",
   "execution_count": 41,
   "metadata": {},
   "outputs": [],
   "source": [
    "def loadDataset(filename, split, trainingSet=[], testSet=[]):\n",
    "    with open(filename, \"r\") as csv_file:\n",
    "        lines = csv.reader(csv_file)\n",
    "        dataset = list(lines)\n",
    "        for x in range(len(dataset)-1):\n",
    "            for y in range(4):\n",
    "                dataset[x][y] = float(dataset[x][y])\n",
    "            if random.random() < split:\n",
    "                trainingSet.append(dataset[x])\n",
    "            else:\n",
    "                testSet.append(dataset[x])"
   ]
  },
  {
   "cell_type": "code",
   "execution_count": 42,
   "metadata": {},
   "outputs": [],
   "source": [
    "def euclideanDistance(instance1, instance2, length):\n",
    "    distance = 0\n",
    "    for x in range(length):\n",
    "        distance += pow((instance1[x] - instance2[x]), 2)\n",
    "    return math.sqrt(distance)"
   ]
  },
  {
   "cell_type": "code",
   "execution_count": 43,
   "metadata": {},
   "outputs": [],
   "source": [
    "def getNeighbours(trainingSet, testInstance, k):\n",
    "    distances = []\n",
    "    length = len(testInstance)-1\n",
    "    for x in range(len(trainingSet)):\n",
    "        dist = euclideanDistance(trainingSet[x], testInstance, length)\n",
    "        distances.append((trainingSet[x], dist))\n",
    "    distances.sort(key=operator.itemgetter(1))\n",
    "    neighbours = distances[:k][0]\n",
    "    return neighbours"
   ]
  },
  {
   "cell_type": "code",
   "execution_count": 50,
   "metadata": {},
   "outputs": [],
   "source": [
    "def getResponse(neighbours):\n",
    "    classVotes = {}\n",
    "    for x in range(len(neighbours)-1):\n",
    "        response = neighbours[x][-1]\n",
    "        if response in classVotes:\n",
    "            classVotes[response] += 1\n",
    "        else:\n",
    "            classVotes[response] = 1\n",
    "    sortedVotes = sorted(classVotes.items(), key=operator.itemgetter(1), reverse= True)\n",
    "    return sortedVotes[0][0]"
   ]
  },
  {
   "cell_type": "code",
   "execution_count": 51,
   "metadata": {},
   "outputs": [],
   "source": [
    "def getAccuracy(testSet, predictions):\n",
    "    correct = 0\n",
    "    for x in range(len(testSet)):\n",
    "        if testSet[x][-1] == predictions[x]:\n",
    "            correct += 1\n",
    "    return (correct/float(len(testSet)))*100.0"
   ]
  },
  {
   "cell_type": "code",
   "execution_count": 57,
   "metadata": {},
   "outputs": [],
   "source": [
    "def main():\n",
    "    trainingSet = []\n",
    "    testSet = []\n",
    "    split = 0.5\n",
    "    loadDataset('iris.data', split, trainingSet, testSet)\n",
    "    print('Train Set:' + repr(len(trainingSet)))\n",
    "    print('Test Set:' + repr(len(testSet)))\n",
    "    predictions = []\n",
    "    k = 3\n",
    "    for x in range(len(testSet)):\n",
    "        neighbours = getNeighbours(trainingSet, testSet[x], k)\n",
    "        result = getResponse(neighbours)\n",
    "        predictions.append(result)\n",
    "        print('Predicted:' +repr(result)+' Actual:'+repr(testSet[x][-1]))\n",
    "    accuracy = getAccuracy(testSet, predictions)\n",
    "    print('Accuracy:'+repr(accuracy)+'%')"
   ]
  },
  {
   "cell_type": "code",
   "execution_count": 58,
   "metadata": {},
   "outputs": [
    {
     "name": "stdout",
     "output_type": "stream",
     "text": [
      "Train Set:73\n",
      "Test Set:77\n",
      "Predicted:'Iris-setosa' Actual:'Iris-setosa'\n",
      "Predicted:'Iris-setosa' Actual:'Iris-setosa'\n",
      "Predicted:'Iris-setosa' Actual:'Iris-setosa'\n",
      "Predicted:'Iris-setosa' Actual:'Iris-setosa'\n",
      "Predicted:'Iris-setosa' Actual:'Iris-setosa'\n",
      "Predicted:'Iris-setosa' Actual:'Iris-setosa'\n",
      "Predicted:'Iris-setosa' Actual:'Iris-setosa'\n",
      "Predicted:'Iris-setosa' Actual:'Iris-setosa'\n",
      "Predicted:'Iris-setosa' Actual:'Iris-setosa'\n",
      "Predicted:'Iris-setosa' Actual:'Iris-setosa'\n",
      "Predicted:'Iris-setosa' Actual:'Iris-setosa'\n",
      "Predicted:'Iris-setosa' Actual:'Iris-setosa'\n",
      "Predicted:'Iris-setosa' Actual:'Iris-setosa'\n",
      "Predicted:'Iris-setosa' Actual:'Iris-setosa'\n",
      "Predicted:'Iris-setosa' Actual:'Iris-setosa'\n",
      "Predicted:'Iris-setosa' Actual:'Iris-setosa'\n",
      "Predicted:'Iris-setosa' Actual:'Iris-setosa'\n",
      "Predicted:'Iris-setosa' Actual:'Iris-setosa'\n",
      "Predicted:'Iris-setosa' Actual:'Iris-setosa'\n",
      "Predicted:'Iris-setosa' Actual:'Iris-setosa'\n",
      "Predicted:'Iris-setosa' Actual:'Iris-setosa'\n",
      "Predicted:'Iris-setosa' Actual:'Iris-setosa'\n",
      "Predicted:'Iris-setosa' Actual:'Iris-setosa'\n",
      "Predicted:'Iris-setosa' Actual:'Iris-setosa'\n",
      "Predicted:'Iris-setosa' Actual:'Iris-setosa'\n",
      "Predicted:'Iris-versicolor' Actual:'Iris-versicolor'\n",
      "Predicted:'Iris-versicolor' Actual:'Iris-versicolor'\n",
      "Predicted:'Iris-versicolor' Actual:'Iris-versicolor'\n",
      "Predicted:'Iris-versicolor' Actual:'Iris-versicolor'\n",
      "Predicted:'Iris-versicolor' Actual:'Iris-versicolor'\n",
      "Predicted:'Iris-versicolor' Actual:'Iris-versicolor'\n",
      "Predicted:'Iris-versicolor' Actual:'Iris-versicolor'\n",
      "Predicted:'Iris-versicolor' Actual:'Iris-versicolor'\n",
      "Predicted:'Iris-versicolor' Actual:'Iris-versicolor'\n",
      "Predicted:'Iris-versicolor' Actual:'Iris-versicolor'\n",
      "Predicted:'Iris-versicolor' Actual:'Iris-versicolor'\n",
      "Predicted:'Iris-versicolor' Actual:'Iris-versicolor'\n",
      "Predicted:'Iris-versicolor' Actual:'Iris-versicolor'\n",
      "Predicted:'Iris-versicolor' Actual:'Iris-versicolor'\n",
      "Predicted:'Iris-versicolor' Actual:'Iris-versicolor'\n",
      "Predicted:'Iris-versicolor' Actual:'Iris-versicolor'\n",
      "Predicted:'Iris-versicolor' Actual:'Iris-versicolor'\n",
      "Predicted:'Iris-versicolor' Actual:'Iris-versicolor'\n",
      "Predicted:'Iris-versicolor' Actual:'Iris-versicolor'\n",
      "Predicted:'Iris-versicolor' Actual:'Iris-versicolor'\n",
      "Predicted:'Iris-versicolor' Actual:'Iris-versicolor'\n",
      "Predicted:'Iris-versicolor' Actual:'Iris-versicolor'\n",
      "Predicted:'Iris-versicolor' Actual:'Iris-versicolor'\n",
      "Predicted:'Iris-versicolor' Actual:'Iris-versicolor'\n",
      "Predicted:'Iris-versicolor' Actual:'Iris-versicolor'\n",
      "Predicted:'Iris-virginica' Actual:'Iris-virginica'\n",
      "Predicted:'Iris-virginica' Actual:'Iris-virginica'\n",
      "Predicted:'Iris-virginica' Actual:'Iris-virginica'\n",
      "Predicted:'Iris-versicolor' Actual:'Iris-virginica'\n",
      "Predicted:'Iris-virginica' Actual:'Iris-virginica'\n",
      "Predicted:'Iris-virginica' Actual:'Iris-virginica'\n",
      "Predicted:'Iris-virginica' Actual:'Iris-virginica'\n",
      "Predicted:'Iris-virginica' Actual:'Iris-virginica'\n",
      "Predicted:'Iris-virginica' Actual:'Iris-virginica'\n",
      "Predicted:'Iris-virginica' Actual:'Iris-virginica'\n",
      "Predicted:'Iris-versicolor' Actual:'Iris-virginica'\n",
      "Predicted:'Iris-virginica' Actual:'Iris-virginica'\n",
      "Predicted:'Iris-virginica' Actual:'Iris-virginica'\n",
      "Predicted:'Iris-virginica' Actual:'Iris-virginica'\n",
      "Predicted:'Iris-virginica' Actual:'Iris-virginica'\n",
      "Predicted:'Iris-virginica' Actual:'Iris-virginica'\n",
      "Predicted:'Iris-virginica' Actual:'Iris-virginica'\n",
      "Predicted:'Iris-virginica' Actual:'Iris-virginica'\n",
      "Predicted:'Iris-virginica' Actual:'Iris-virginica'\n",
      "Predicted:'Iris-virginica' Actual:'Iris-virginica'\n",
      "Predicted:'Iris-versicolor' Actual:'Iris-virginica'\n",
      "Predicted:'Iris-virginica' Actual:'Iris-virginica'\n",
      "Predicted:'Iris-virginica' Actual:'Iris-virginica'\n",
      "Predicted:'Iris-virginica' Actual:'Iris-virginica'\n",
      "Predicted:'Iris-virginica' Actual:'Iris-virginica'\n",
      "Predicted:'Iris-virginica' Actual:'Iris-virginica'\n",
      "Predicted:'Iris-virginica' Actual:'Iris-virginica'\n",
      "Accuracy:96.1038961038961%\n"
     ]
    }
   ],
   "source": [
    "main()"
   ]
  }
 ],
 "metadata": {
  "kernelspec": {
   "display_name": "Python 3",
   "language": "python",
   "name": "python3"
  },
  "language_info": {
   "codemirror_mode": {
    "name": "ipython",
    "version": 3
   },
   "file_extension": ".py",
   "mimetype": "text/x-python",
   "name": "python",
   "nbconvert_exporter": "python",
   "pygments_lexer": "ipython3",
   "version": "3.7.4"
  }
 },
 "nbformat": 4,
 "nbformat_minor": 2
}
