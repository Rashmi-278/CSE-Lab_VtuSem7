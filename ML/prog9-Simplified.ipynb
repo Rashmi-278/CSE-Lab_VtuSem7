{
 "cells": [
  {
   "cell_type": "code",
   "execution_count": 19,
   "metadata": {},
   "outputs": [],
   "source": [
    "from sklearn.model_selection import train_test_split\n",
    "from sklearn.neighbors import KNeighborsClassifier\n",
    "from sklearn import datasets"
   ]
  },
  {
   "cell_type": "code",
   "execution_count": 20,
   "metadata": {},
   "outputs": [
    {
     "name": "stdout",
     "output_type": "stream",
     "text": [
      "Loaded Iris Dataset\n"
     ]
    }
   ],
   "source": [
    "iris = datasets.load_iris()\n",
    "print('Loaded Iris Dataset')"
   ]
  },
  {
   "cell_type": "code",
   "execution_count": 21,
   "metadata": {},
   "outputs": [
    {
     "name": "stdout",
     "output_type": "stream",
     "text": [
      "Dataset Split\n",
      "Train:  (75, 4) (75,)\n",
      "Test:  (75, 4) (75,)\n"
     ]
    }
   ],
   "source": [
    "x_train, x_test, y_train, y_test = train_test_split(iris.data, iris.target, test_size=0.5)\n",
    "print('Dataset Split')\n",
    "print('Train: ', x_train.shape, y_train.shape)\n",
    "print('Test: ', x_test.shape, y_test.shape)"
   ]
  },
  {
   "cell_type": "code",
   "execution_count": 22,
   "metadata": {},
   "outputs": [
    {
     "name": "stdout",
     "output_type": "stream",
     "text": [
      "Label  0  -  setosa\n",
      "Label  1  -  versicolor\n",
      "Label  2  -  virginica\n"
     ]
    }
   ],
   "source": [
    "for i in range(len(iris.target_names)):\n",
    "    print('Label ', i, ' - ', str(iris.target_names[i]))"
   ]
  },
  {
   "cell_type": "code",
   "execution_count": 23,
   "metadata": {},
   "outputs": [
    {
     "name": "stdout",
     "output_type": "stream",
     "text": [
      "Sample:  [6.  2.9 4.5 1.5]   Actual:  1   Prediction:  1\n",
      "Sample:  [6.5 3.  5.2 2. ]   Actual:  2   Prediction:  2\n",
      "Sample:  [6.5 2.8 4.6 1.5]   Actual:  1   Prediction:  1\n",
      "Sample:  [5.8 2.7 5.1 1.9]   Actual:  2   Prediction:  2\n",
      "Sample:  [6.6 3.  4.4 1.4]   Actual:  1   Prediction:  1\n",
      "Sample:  [5.5 3.5 1.3 0.2]   Actual:  0   Prediction:  0\n",
      "Sample:  [6.1 2.8 4.  1.3]   Actual:  1   Prediction:  1\n",
      "Sample:  [5.  3.  1.6 0.2]   Actual:  0   Prediction:  0\n",
      "Sample:  [5.4 3.  4.5 1.5]   Actual:  1   Prediction:  1\n",
      "Sample:  [5.  3.4 1.5 0.2]   Actual:  0   Prediction:  0\n",
      "Sample:  [6.5 3.  5.5 1.8]   Actual:  2   Prediction:  2\n",
      "Sample:  [5.3 3.7 1.5 0.2]   Actual:  0   Prediction:  0\n",
      "Sample:  [5.  3.2 1.2 0.2]   Actual:  0   Prediction:  0\n",
      "Sample:  [6.8 2.8 4.8 1.4]   Actual:  1   Prediction:  1\n",
      "Sample:  [5.9 3.  4.2 1.5]   Actual:  1   Prediction:  1\n",
      "Sample:  [7.4 2.8 6.1 1.9]   Actual:  2   Prediction:  2\n",
      "Sample:  [7.2 3.  5.8 1.6]   Actual:  2   Prediction:  2\n",
      "Sample:  [6.6 2.9 4.6 1.3]   Actual:  1   Prediction:  1\n",
      "Sample:  [5.  3.6 1.4 0.2]   Actual:  0   Prediction:  0\n",
      "Sample:  [6.4 2.7 5.3 1.9]   Actual:  2   Prediction:  2\n",
      "Sample:  [5.5 2.4 3.8 1.1]   Actual:  1   Prediction:  1\n",
      "Sample:  [6.2 2.9 4.3 1.3]   Actual:  1   Prediction:  1\n",
      "Sample:  [7.7 2.8 6.7 2. ]   Actual:  2   Prediction:  2\n",
      "Sample:  [4.8 3.1 1.6 0.2]   Actual:  0   Prediction:  0\n",
      "Sample:  [6.  3.  4.8 1.8]   Actual:  2   Prediction:  1\n",
      "Sample:  [5.1 3.5 1.4 0.3]   Actual:  0   Prediction:  0\n",
      "Sample:  [6.7 3.1 4.4 1.4]   Actual:  1   Prediction:  1\n",
      "Sample:  [5.5 2.6 4.4 1.2]   Actual:  1   Prediction:  1\n",
      "Sample:  [4.8 3.  1.4 0.1]   Actual:  0   Prediction:  0\n",
      "Sample:  [6.4 3.2 5.3 2.3]   Actual:  2   Prediction:  2\n",
      "Sample:  [6.3 3.3 6.  2.5]   Actual:  2   Prediction:  2\n",
      "Sample:  [7.7 2.6 6.9 2.3]   Actual:  2   Prediction:  2\n",
      "Sample:  [5.5 4.2 1.4 0.2]   Actual:  0   Prediction:  0\n",
      "Sample:  [4.6 3.4 1.4 0.3]   Actual:  0   Prediction:  0\n",
      "Sample:  [6.8 3.  5.5 2.1]   Actual:  2   Prediction:  2\n",
      "Sample:  [5.8 2.7 3.9 1.2]   Actual:  1   Prediction:  1\n",
      "Sample:  [7.2 3.2 6.  1.8]   Actual:  2   Prediction:  2\n",
      "Sample:  [6.  2.2 5.  1.5]   Actual:  2   Prediction:  1\n",
      "Sample:  [5.7 2.6 3.5 1. ]   Actual:  1   Prediction:  1\n",
      "Sample:  [5.6 3.  4.5 1.5]   Actual:  1   Prediction:  1\n",
      "Sample:  [6.2 3.4 5.4 2.3]   Actual:  2   Prediction:  2\n",
      "Sample:  [6.5 3.2 5.1 2. ]   Actual:  2   Prediction:  1\n",
      "Sample:  [4.6 3.2 1.4 0.2]   Actual:  0   Prediction:  0\n",
      "Sample:  [4.9 3.6 1.4 0.1]   Actual:  0   Prediction:  0\n",
      "Sample:  [5.8 4.  1.2 0.2]   Actual:  0   Prediction:  0\n",
      "Sample:  [4.6 3.1 1.5 0.2]   Actual:  0   Prediction:  0\n",
      "Sample:  [5.2 2.7 3.9 1.4]   Actual:  1   Prediction:  1\n",
      "Sample:  [4.7 3.2 1.6 0.2]   Actual:  0   Prediction:  0\n",
      "Sample:  [4.9 3.  1.4 0.2]   Actual:  0   Prediction:  0\n",
      "Sample:  [4.9 2.4 3.3 1. ]   Actual:  1   Prediction:  1\n",
      "Sample:  [5.8 2.8 5.1 2.4]   Actual:  2   Prediction:  2\n",
      "Sample:  [5.6 2.7 4.2 1.3]   Actual:  1   Prediction:  1\n",
      "Sample:  [5.1 3.3 1.7 0.5]   Actual:  0   Prediction:  0\n",
      "Sample:  [6.3 2.8 5.1 1.5]   Actual:  2   Prediction:  1\n",
      "Sample:  [6.1 2.9 4.7 1.4]   Actual:  1   Prediction:  1\n",
      "Sample:  [5.7 2.8 4.5 1.3]   Actual:  1   Prediction:  1\n",
      "Sample:  [5.1 3.8 1.5 0.3]   Actual:  0   Prediction:  0\n",
      "Sample:  [7.  3.2 4.7 1.4]   Actual:  1   Prediction:  1\n",
      "Sample:  [5.8 2.6 4.  1.2]   Actual:  1   Prediction:  1\n",
      "Sample:  [5.1 3.7 1.5 0.4]   Actual:  0   Prediction:  0\n",
      "Sample:  [4.6 3.6 1.  0.2]   Actual:  0   Prediction:  0\n",
      "Sample:  [5.8 2.7 4.1 1. ]   Actual:  1   Prediction:  1\n",
      "Sample:  [6.8 3.2 5.9 2.3]   Actual:  2   Prediction:  2\n",
      "Sample:  [6.  2.2 4.  1. ]   Actual:  1   Prediction:  1\n",
      "Sample:  [5.5 2.5 4.  1.3]   Actual:  1   Prediction:  1\n",
      "Sample:  [5.2 4.1 1.5 0.1]   Actual:  0   Prediction:  0\n",
      "Sample:  [5.7 3.8 1.7 0.3]   Actual:  0   Prediction:  0\n",
      "Sample:  [4.8 3.4 1.6 0.2]   Actual:  0   Prediction:  0\n",
      "Sample:  [6.9 3.2 5.7 2.3]   Actual:  2   Prediction:  2\n",
      "Sample:  [5.2 3.4 1.4 0.2]   Actual:  0   Prediction:  0\n",
      "Sample:  [6.3 2.7 4.9 1.8]   Actual:  2   Prediction:  2\n",
      "Sample:  [5.4 3.4 1.7 0.2]   Actual:  0   Prediction:  0\n",
      "Sample:  [4.4 2.9 1.4 0.2]   Actual:  0   Prediction:  0\n",
      "Sample:  [7.9 3.8 6.4 2. ]   Actual:  2   Prediction:  2\n",
      "Sample:  [6.9 3.1 4.9 1.5]   Actual:  1   Prediction:  1\n",
      "Classifier Accuracy:  0.9466666666666667\n"
     ]
    }
   ],
   "source": [
    "classifier = KNeighborsClassifier(n_neighbors=2)\n",
    "classifier.fit(x_train, y_train)\n",
    "y_pred = classifier.predict(x_test)\n",
    "\n",
    "for r in range(len(x_test)):\n",
    "    print('Sample: ', str(x_test[r]), '  Actual: ', str(y_test[r]), '  Prediction: ', str(y_pred[r]))\n",
    "print('Classifier Accuracy: ', classifier.score(x_test, y_test))"
   ]
  },
  {
   "cell_type": "code",
   "execution_count": 24,
   "metadata": {},
   "outputs": [
    {
     "name": "stdout",
     "output_type": "stream",
     "text": [
      "Confusion Matrix\n",
      "[[27  0  0]\n",
      " [ 0 26  0]\n",
      " [ 0  4 18]]\n",
      "\n",
      "Accuracy Metrics\n",
      "              precision    recall  f1-score   support\n",
      "\n",
      "           0       1.00      1.00      1.00        27\n",
      "           1       0.87      1.00      0.93        26\n",
      "           2       1.00      0.82      0.90        22\n",
      "\n",
      "    accuracy                           0.95        75\n",
      "   macro avg       0.96      0.94      0.94        75\n",
      "weighted avg       0.95      0.95      0.95        75\n",
      "\n"
     ]
    }
   ],
   "source": [
    "from sklearn.metrics import classification_report, confusion_matrix\n",
    "print('Confusion Matrix')\n",
    "print(confusion_matrix(y_test, y_pred))\n",
    "print()\n",
    "print('Accuracy Metrics')\n",
    "print(classification_report(y_test, y_pred))"
   ]
  },
  {
   "cell_type": "code",
   "execution_count": null,
   "metadata": {},
   "outputs": [],
   "source": []
  }
 ],
 "metadata": {
  "kernelspec": {
   "display_name": "Python 3",
   "language": "python",
   "name": "python3"
  },
  "language_info": {
   "codemirror_mode": {
    "name": "ipython",
    "version": 3
   },
   "file_extension": ".py",
   "mimetype": "text/x-python",
   "name": "python",
   "nbconvert_exporter": "python",
   "pygments_lexer": "ipython3",
   "version": "3.7.4"
  }
 },
 "nbformat": 4,
 "nbformat_minor": 2
}
